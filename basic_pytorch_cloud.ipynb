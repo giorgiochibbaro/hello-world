{
  "nbformat": 4,
  "nbformat_minor": 0,
  "metadata": {
    "colab": {
      "provenance": [],
      "gpuType": "T4",
      "authorship_tag": "ABX9TyOd8QQUMKcmT+UI9YE4Kofb",
      "include_colab_link": true
    },
    "kernelspec": {
      "name": "python3",
      "display_name": "Python 3"
    },
    "language_info": {
      "name": "python"
    },
    "accelerator": "GPU"
  },
  "cells": [
    {
      "cell_type": "markdown",
      "metadata": {
        "id": "view-in-github",
        "colab_type": "text"
      },
      "source": [
        "<a href=\"https://colab.research.google.com/github/giorgiochibbaro/hello-world/blob/master/basic_pytorch_cloud.ipynb\" target=\"_parent\"><img src=\"https://colab.research.google.com/assets/colab-badge.svg\" alt=\"Open In Colab\"/></a>"
      ]
    },
    {
      "cell_type": "code",
      "execution_count": 1,
      "metadata": {
        "colab": {
          "base_uri": "https://localhost:8080/"
        },
        "id": "nM87GsxNeaKB",
        "outputId": "51765f36-8b3d-4a5b-d8c9-a4f87e666eec"
      },
      "outputs": [
        {
          "output_type": "stream",
          "name": "stdout",
          "text": [
            "/content\n"
          ]
        }
      ],
      "source": [
        "# -*- coding: utf-8 -*-\n",
        "\"\"\"\n",
        "Created on Tue Jul 16 07:51:10 2024\n",
        "\n",
        "@author: giorgio.chibbaro\n",
        "\"\"\"\n",
        "\n",
        "import os\n",
        "cwd = os.getcwd()\n",
        "print(cwd)\n",
        "# print('change directory')\n",
        "# wd = './NetworkRegression'\n",
        "# wd = 'C:\\\\Users\\\\giorgio.chibbaro\\\\PycharmProjects\\\\Network-Regression-Maodeling\\\\NetworkRegression'\n",
        "# wd = 'C:\\\\Users\\\\giorgio.chibbaro\\\\OneDrive - ION\\\\vigata\\\\pytorch_tutorial\\\\beginners-pytorch-deep-learning'\n",
        "# os.chdir(wd)\n",
        "# cwd = os.getcwd()\n",
        "# print(cwd)\n",
        "\n"
      ]
    },
    {
      "cell_type": "code",
      "source": [
        "\n",
        "\n",
        "import numpy as np\n",
        "import pandas as pd\n",
        "# import time\n",
        "import warnings\n",
        "# warnings.filterwarnings(\"ignore\")\n",
        "import torch\n",
        "print(torch.cuda.is_available())\n"
      ],
      "metadata": {
        "colab": {
          "base_uri": "https://localhost:8080/"
        },
        "id": "CHRzY6Eif4Bw",
        "outputId": "e5fe2889-329b-477a-cfbd-4630a22912f6"
      },
      "execution_count": 2,
      "outputs": [
        {
          "output_type": "stream",
          "name": "stdout",
          "text": [
            "True\n"
          ]
        }
      ]
    },
    {
      "cell_type": "code",
      "source": [
        "\n",
        "print(torch.cuda.get_device_name(0))\n",
        "print(torch.cuda.device_count())\n",
        "print(torch.cuda.current_device())\n",
        "# print(torch.cuda.get_device_properties(0))\n",
        "# print(torch.cuda.get_device_properties(1))\n",
        "# print(torch.cuda.get_device_properties(2))\n",
        "# print(torch.cuda.get_device_properties(3))\n",
        "# print(torch.cuda.get_device_properties(4))\n",
        "# print(torch.cuda.get_device_properties(5))\n",
        "# print(torch.cuda.get_device_properties(6))\n",
        "# print(torch.cuda.get_device_properties(7))\n",
        "# print(torch.cuda.get_device_properties(8))\n",
        "# print(torch.cuda.get_device_properties(9))\n",
        "\n",
        "\n"
      ],
      "metadata": {
        "colab": {
          "base_uri": "https://localhost:8080/"
        },
        "id": "erqQqCb5ict2",
        "outputId": "2accf1e1-6882-47c8-9b80-5569d9c35a5c"
      },
      "execution_count": 4,
      "outputs": [
        {
          "output_type": "stream",
          "name": "stdout",
          "text": [
            "Tesla T4\n",
            "1\n",
            "0\n"
          ]
        }
      ]
    },
    {
      "cell_type": "code",
      "source": [
        "\n",
        "\n",
        "\n",
        "torch.manual_seed(42)\n",
        "print(torch.rand(2,2))\n",
        "\n",
        "x = torch.tensor([[0,0,1],[1,1,1],[0,0,0]])\n",
        "x\n",
        "x[0][0] = 5\n",
        "x\n",
        "torch.zeros(2,2)\n",
        "torch.ones(1,2) + torch.ones(1,2)\n",
        "y = torch.rand(1)\n",
        "y\n",
        "y.item()\n",
        "print(y)\n",
        "cpu_tensor = torch.rand(2)\n",
        "cpu_tensor.device\n",
        "gpu_tensor = cpu_tensor.to(\"cuda\")\n",
        "\n",
        "long_tensor = torch.tensor([[0,0,1],[1,1,1],[0,0,0]])\n",
        "long_tensor.type()\n",
        "float_tensor = long_tensor.to(dtype=torch.float32)\n",
        "float_tensor.type()\n",
        "\n",
        "\n",
        "ndarray = np.array([0, 1, 2])\n",
        "t = torch.from_numpy(ndarray)\n",
        "print(t)\n",
        "print(t.shape)\n",
        "print(t.dtype)\n",
        "print(t.device)\n",
        "\n",
        "ndarray = np.array([[0, 1, 2], [3, 4, 5]])\n",
        "t = torch.from_numpy(ndarray)\n",
        "print(t)\n",
        "\n",
        "new_t = torch.rand_like(t, dtype=torch.float)\n",
        "print(new_t)\n",
        "\n",
        "zeros_tensor = torch.zeros((2, 3))\n",
        "print(zeros_tensor)\n",
        "ones_tensor = torch.ones(3, 3)\n",
        "product = torch.matmul(zeros_tensor, ones_tensor)\n",
        "print(product)\n",
        "\n",
        "from torchvision import datasets\n",
        "from torchvision.transforms import ToTensor\n",
        "import matplotlib.pyplot as plt\n",
        "\n",
        "# training_data = datasets.MNIST(root=\".\", train=True, download=True, transform=ToTensor())\n",
        "# test_data = datasets.MNIST(root=\".\", train=False, download=True, transform=ToTensor())\n",
        "\n",
        "\n",
        "\n",
        "\n",
        "\n",
        "\n",
        "\n",
        "\n",
        "\n",
        "\n",
        "\n",
        "\n",
        "\n",
        "\n",
        "\n",
        "\n",
        "\n",
        "\n",
        "\n",
        "\n",
        "\n",
        "\n",
        "\n",
        "\n"
      ],
      "metadata": {
        "id": "0VZeOUSliFsb"
      },
      "execution_count": null,
      "outputs": []
    },
    {
      "cell_type": "code",
      "source": [],
      "metadata": {
        "id": "h0ud_u4UfWO_"
      },
      "execution_count": null,
      "outputs": []
    },
    {
      "cell_type": "code",
      "source": [],
      "metadata": {
        "id": "DpWKS3edfWg9"
      },
      "execution_count": null,
      "outputs": []
    },
    {
      "cell_type": "code",
      "source": [],
      "metadata": {
        "id": "o1t4-6upfWj9"
      },
      "execution_count": null,
      "outputs": []
    },
    {
      "cell_type": "code",
      "source": [],
      "metadata": {
        "id": "F5J9dLwlfWm2"
      },
      "execution_count": null,
      "outputs": []
    },
    {
      "cell_type": "code",
      "source": [],
      "metadata": {
        "id": "Qj3SvXYufWpv"
      },
      "execution_count": null,
      "outputs": []
    },
    {
      "cell_type": "code",
      "source": [],
      "metadata": {
        "id": "z0tF3DZDfWsW"
      },
      "execution_count": null,
      "outputs": []
    },
    {
      "cell_type": "code",
      "source": [],
      "metadata": {
        "id": "mCc6Hp_XfWvO"
      },
      "execution_count": null,
      "outputs": []
    },
    {
      "cell_type": "code",
      "source": [],
      "metadata": {
        "id": "JSxskjhzfWx2"
      },
      "execution_count": null,
      "outputs": []
    },
    {
      "cell_type": "code",
      "source": [],
      "metadata": {
        "id": "VW5gqgqGfW0e"
      },
      "execution_count": null,
      "outputs": []
    }
  ]
}